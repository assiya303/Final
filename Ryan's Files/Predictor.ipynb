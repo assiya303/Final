{
 "cells": [
  {
   "cell_type": "code",
   "execution_count": 1,
   "metadata": {},
   "outputs": [],
   "source": [
    "%matplotlib inline\n",
    "import matplotlib.pyplot as plt\n",
    "import pandas as pd\n",
    "import os"
   ]
  },
  {
   "cell_type": "code",
   "execution_count": 2,
   "metadata": {},
   "outputs": [
    {
     "data": {
      "text/html": [
       "<div>\n",
       "<style scoped>\n",
       "    .dataframe tbody tr th:only-of-type {\n",
       "        vertical-align: middle;\n",
       "    }\n",
       "\n",
       "    .dataframe tbody tr th {\n",
       "        vertical-align: top;\n",
       "    }\n",
       "\n",
       "    .dataframe thead th {\n",
       "        text-align: right;\n",
       "    }\n",
       "</style>\n",
       "<table border=\"1\" class=\"dataframe\">\n",
       "  <thead>\n",
       "    <tr style=\"text-align: right;\">\n",
       "      <th></th>\n",
       "      <th>Date</th>\n",
       "      <th>Start (ET)</th>\n",
       "      <th>Team</th>\n",
       "      <th>Home?</th>\n",
       "      <th>PTS</th>\n",
       "      <th>W/L</th>\n",
       "      <th>W/L Binary</th>\n",
       "      <th>v_G</th>\n",
       "      <th>v_MP</th>\n",
       "      <th>v_FG</th>\n",
       "      <th>...</th>\n",
       "      <th>h_TRB</th>\n",
       "      <th>h_AST</th>\n",
       "      <th>h_STL</th>\n",
       "      <th>h_BLK</th>\n",
       "      <th>h_TOV</th>\n",
       "      <th>h_PF</th>\n",
       "      <th>h_PTS</th>\n",
       "      <th>OT</th>\n",
       "      <th>Attend.</th>\n",
       "      <th>Notes</th>\n",
       "    </tr>\n",
       "  </thead>\n",
       "  <tbody>\n",
       "    <tr>\n",
       "      <th>0</th>\n",
       "      <td>Wed Oct 18 2017</td>\n",
       "      <td>7:00p</td>\n",
       "      <td>Philadelphia 76ers</td>\n",
       "      <td>0</td>\n",
       "      <td>87</td>\n",
       "      <td>L</td>\n",
       "      <td>0</td>\n",
       "      <td>82</td>\n",
       "      <td>241.2</td>\n",
       "      <td>40.8</td>\n",
       "      <td>...</td>\n",
       "      <td>42.1</td>\n",
       "      <td>23.4</td>\n",
       "      <td>7.1</td>\n",
       "      <td>3.8</td>\n",
       "      <td>13.7</td>\n",
       "      <td>18.6</td>\n",
       "      <td>110.9</td>\n",
       "      <td>NaN</td>\n",
       "      <td>20356</td>\n",
       "      <td>NaN</td>\n",
       "    </tr>\n",
       "    <tr>\n",
       "      <th>1</th>\n",
       "      <td>Tue Oct 17 2017</td>\n",
       "      <td>8:01p</td>\n",
       "      <td>Boston Celtics</td>\n",
       "      <td>1</td>\n",
       "      <td>105</td>\n",
       "      <td>W</td>\n",
       "      <td>1</td>\n",
       "      <td>82</td>\n",
       "      <td>241.2</td>\n",
       "      <td>40.8</td>\n",
       "      <td>...</td>\n",
       "      <td>42.1</td>\n",
       "      <td>23.4</td>\n",
       "      <td>7.1</td>\n",
       "      <td>3.8</td>\n",
       "      <td>13.7</td>\n",
       "      <td>18.6</td>\n",
       "      <td>110.9</td>\n",
       "      <td>NaN</td>\n",
       "      <td>20562</td>\n",
       "      <td>NaN</td>\n",
       "    </tr>\n",
       "  </tbody>\n",
       "</table>\n",
       "<p>2 rows × 56 columns</p>\n",
       "</div>"
      ],
      "text/plain": [
       "              Date Start (ET)                Team  Home?  PTS W/L  W/L Binary  \\\n",
       "0  Wed Oct 18 2017      7:00p  Philadelphia 76ers      0   87   L           0   \n",
       "1  Tue Oct 17 2017      8:01p      Boston Celtics      1  105   W           1   \n",
       "\n",
       "   v_G   v_MP  v_FG  ...    h_TRB  h_AST  h_STL  h_BLK  h_TOV  h_PF  h_PTS  \\\n",
       "0   82  241.2  40.8  ...     42.1   23.4    7.1    3.8   13.7  18.6  110.9   \n",
       "1   82  241.2  40.8  ...     42.1   23.4    7.1    3.8   13.7  18.6  110.9   \n",
       "\n",
       "   OT  Attend.  Notes  \n",
       "0 NaN    20356    NaN  \n",
       "1 NaN    20562    NaN  \n",
       "\n",
       "[2 rows x 56 columns]"
      ]
     },
     "execution_count": 2,
     "metadata": {},
     "output_type": "execute_result"
    }
   ],
   "source": [
    "data = pd.read_csv(os.path.join('test.csv'))\n",
    "data.head()"
   ]
  },
  {
   "cell_type": "code",
   "execution_count": 3,
   "metadata": {},
   "outputs": [
    {
     "data": {
      "text/html": [
       "<div>\n",
       "<style scoped>\n",
       "    .dataframe tbody tr th:only-of-type {\n",
       "        vertical-align: middle;\n",
       "    }\n",
       "\n",
       "    .dataframe tbody tr th {\n",
       "        vertical-align: top;\n",
       "    }\n",
       "\n",
       "    .dataframe thead th {\n",
       "        text-align: right;\n",
       "    }\n",
       "</style>\n",
       "<table border=\"1\" class=\"dataframe\">\n",
       "  <thead>\n",
       "    <tr style=\"text-align: right;\">\n",
       "      <th></th>\n",
       "      <th>Home?</th>\n",
       "      <th>PTS</th>\n",
       "      <th>W/L Binary</th>\n",
       "      <th>v_G</th>\n",
       "      <th>v_MP</th>\n",
       "      <th>v_FG</th>\n",
       "      <th>v_FGA</th>\n",
       "      <th>v_FG%</th>\n",
       "      <th>v_3P</th>\n",
       "      <th>v_3PA</th>\n",
       "      <th>...</th>\n",
       "      <th>h_FT%</th>\n",
       "      <th>h_ORB</th>\n",
       "      <th>h_DRB</th>\n",
       "      <th>h_TRB</th>\n",
       "      <th>h_AST</th>\n",
       "      <th>h_STL</th>\n",
       "      <th>h_BLK</th>\n",
       "      <th>h_TOV</th>\n",
       "      <th>h_PF</th>\n",
       "      <th>h_PTS</th>\n",
       "    </tr>\n",
       "  </thead>\n",
       "  <tbody>\n",
       "    <tr>\n",
       "      <th>0</th>\n",
       "      <td>0</td>\n",
       "      <td>87</td>\n",
       "      <td>0</td>\n",
       "      <td>82</td>\n",
       "      <td>241.2</td>\n",
       "      <td>40.8</td>\n",
       "      <td>86.6</td>\n",
       "      <td>0.472</td>\n",
       "      <td>11</td>\n",
       "      <td>29.8</td>\n",
       "      <td>...</td>\n",
       "      <td>0.779</td>\n",
       "      <td>8.5</td>\n",
       "      <td>33.7</td>\n",
       "      <td>42.1</td>\n",
       "      <td>23.4</td>\n",
       "      <td>7.1</td>\n",
       "      <td>3.8</td>\n",
       "      <td>13.7</td>\n",
       "      <td>18.6</td>\n",
       "      <td>110.9</td>\n",
       "    </tr>\n",
       "    <tr>\n",
       "      <th>1</th>\n",
       "      <td>1</td>\n",
       "      <td>105</td>\n",
       "      <td>1</td>\n",
       "      <td>82</td>\n",
       "      <td>241.2</td>\n",
       "      <td>40.8</td>\n",
       "      <td>86.6</td>\n",
       "      <td>0.472</td>\n",
       "      <td>11</td>\n",
       "      <td>29.8</td>\n",
       "      <td>...</td>\n",
       "      <td>0.779</td>\n",
       "      <td>8.5</td>\n",
       "      <td>33.7</td>\n",
       "      <td>42.1</td>\n",
       "      <td>23.4</td>\n",
       "      <td>7.1</td>\n",
       "      <td>3.8</td>\n",
       "      <td>13.7</td>\n",
       "      <td>18.6</td>\n",
       "      <td>110.9</td>\n",
       "    </tr>\n",
       "  </tbody>\n",
       "</table>\n",
       "<p>2 rows × 49 columns</p>\n",
       "</div>"
      ],
      "text/plain": [
       "   Home?  PTS  W/L Binary  v_G   v_MP  v_FG  v_FGA  v_FG%  v_3P  v_3PA  ...    \\\n",
       "0      0   87           0   82  241.2  40.8   86.6  0.472    11   29.8  ...     \n",
       "1      1  105           1   82  241.2  40.8   86.6  0.472    11   29.8  ...     \n",
       "\n",
       "   h_FT%  h_ORB  h_DRB  h_TRB  h_AST  h_STL  h_BLK  h_TOV  h_PF  h_PTS  \n",
       "0  0.779    8.5   33.7   42.1   23.4    7.1    3.8   13.7  18.6  110.9  \n",
       "1  0.779    8.5   33.7   42.1   23.4    7.1    3.8   13.7  18.6  110.9  \n",
       "\n",
       "[2 rows x 49 columns]"
      ]
     },
     "execution_count": 3,
     "metadata": {},
     "output_type": "execute_result"
    }
   ],
   "source": [
    "df = data.drop([\"Date\", \"Start (ET)\", \"Team\", \"W/L\", \"OT\", \"Attend.\", \"Notes\"], axis=1)\n",
    "df"
   ]
  },
  {
   "cell_type": "code",
   "execution_count": 4,
   "metadata": {},
   "outputs": [
    {
     "name": "stdout",
     "output_type": "stream",
     "text": [
      "(2, 48)\n"
     ]
    }
   ],
   "source": [
    "X = df.drop(\"W/L Binary\", axis=1)\n",
    "print(X.shape)"
   ]
  },
  {
   "cell_type": "code",
   "execution_count": 9,
   "metadata": {},
   "outputs": [],
   "source": [
    "from sklearn.externals import joblib\n",
    "X_scaler = joblib.load(\"scaler.save\")\n",
    "X_scaled = X_scaler.transform(X)"
   ]
  },
  {
   "cell_type": "code",
   "execution_count": 10,
   "metadata": {},
   "outputs": [
    {
     "name": "stderr",
     "output_type": "stream",
     "text": [
      "C:\\Users\\ryanw\\Anaconda3\\envs\\pythondata\\lib\\site-packages\\h5py\\__init__.py:36: FutureWarning: Conversion of the second argument of issubdtype from `float` to `np.floating` is deprecated. In future, it will be treated as `np.float64 == np.dtype(float).type`.\n",
      "  from ._conv import register_converters as _register_converters\n",
      "Using TensorFlow backend.\n"
     ]
    }
   ],
   "source": [
    "from keras.models import load_model\n",
    "voice_model = load_model(\"voice_model_trained.h5\")"
   ]
  },
  {
   "cell_type": "code",
   "execution_count": 13,
   "metadata": {},
   "outputs": [
    {
     "name": "stdout",
     "output_type": "stream",
     "text": [
      "Predicted class: [0 1]\n"
     ]
    }
   ],
   "source": [
    "print(f\"Predicted class: {voice_model.predict_classes(X_scaled)}\")"
   ]
  },
  {
   "cell_type": "code",
   "execution_count": null,
   "metadata": {},
   "outputs": [],
   "source": []
  },
  {
   "cell_type": "code",
   "execution_count": null,
   "metadata": {},
   "outputs": [],
   "source": []
  },
  {
   "cell_type": "code",
   "execution_count": null,
   "metadata": {},
   "outputs": [],
   "source": []
  },
  {
   "cell_type": "code",
   "execution_count": null,
   "metadata": {},
   "outputs": [],
   "source": []
  },
  {
   "cell_type": "code",
   "execution_count": null,
   "metadata": {},
   "outputs": [],
   "source": []
  },
  {
   "cell_type": "code",
   "execution_count": null,
   "metadata": {},
   "outputs": [],
   "source": []
  },
  {
   "cell_type": "code",
   "execution_count": null,
   "metadata": {},
   "outputs": [],
   "source": []
  },
  {
   "cell_type": "code",
   "execution_count": null,
   "metadata": {},
   "outputs": [],
   "source": []
  },
  {
   "cell_type": "code",
   "execution_count": null,
   "metadata": {},
   "outputs": [],
   "source": []
  },
  {
   "cell_type": "code",
   "execution_count": null,
   "metadata": {},
   "outputs": [],
   "source": []
  },
  {
   "cell_type": "code",
   "execution_count": null,
   "metadata": {},
   "outputs": [],
   "source": []
  },
  {
   "cell_type": "code",
   "execution_count": null,
   "metadata": {},
   "outputs": [],
   "source": []
  },
  {
   "cell_type": "code",
   "execution_count": null,
   "metadata": {},
   "outputs": [],
   "source": []
  },
  {
   "cell_type": "code",
   "execution_count": null,
   "metadata": {},
   "outputs": [],
   "source": []
  },
  {
   "cell_type": "code",
   "execution_count": null,
   "metadata": {},
   "outputs": [],
   "source": []
  },
  {
   "cell_type": "code",
   "execution_count": null,
   "metadata": {},
   "outputs": [],
   "source": []
  }
 ],
 "metadata": {
  "kernelspec": {
   "display_name": "Python [conda env:pythondata]",
   "language": "python",
   "name": "conda-env-pythondata-py"
  },
  "language_info": {
   "codemirror_mode": {
    "name": "ipython",
    "version": 3
   },
   "file_extension": ".py",
   "mimetype": "text/x-python",
   "name": "python",
   "nbconvert_exporter": "python",
   "pygments_lexer": "ipython3",
   "version": "3.6.5"
  }
 },
 "nbformat": 4,
 "nbformat_minor": 2
}
